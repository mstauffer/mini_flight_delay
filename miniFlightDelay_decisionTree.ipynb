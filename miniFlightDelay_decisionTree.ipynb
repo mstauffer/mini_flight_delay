{
  "nbformat": 4,
  "nbformat_minor": 0,
  "metadata": {
    "colab": {
      "name": "decisionTrees.ipynb",
      "provenance": [],
      "collapsed_sections": []
    },
    "kernelspec": {
      "name": "python3",
      "display_name": "Python 3"
    }
  },
  "cells": [
    {
      "cell_type": "markdown",
      "metadata": {
        "id": "lc2wKr8frPoH"
      },
      "source": [
        "Imports"
      ]
    },
    {
      "cell_type": "code",
      "metadata": {
        "id": "MqEIUunMnVgw",
        "outputId": "c1d83c7b-5f67-4f8f-a4bc-4f35b33de62a",
        "colab": {
          "base_uri": "https://localhost:8080/",
          "height": 54
        }
      },
      "source": [
        "import pandas as pd\n",
        "from sklearn import preprocessing, tree\n",
        "from sklearn.neural_network import MLPClassifier\n",
        "from sklearn.model_selection import StratifiedKFold, train_test_split\n",
        "from sklearn.metrics import classification_report, confusion_matrix, roc_auc_score\n",
        "import lightgbm as lgb\n",
        "\n",
        "from google.colab import drive\n",
        "# drive.mount('/content/drive')"
      ],
      "execution_count": null,
      "outputs": [
        {
          "output_type": "stream",
          "text": [
            "Drive already mounted at /content/drive; to attempt to forcibly remount, call drive.mount(\"/content/drive\", force_remount=True).\n"
          ],
          "name": "stdout"
        }
      ]
    },
    {
      "cell_type": "markdown",
      "metadata": {
        "id": "tP4JQ208rWvf"
      },
      "source": [
        "Open and display dataframe"
      ]
    },
    {
      "cell_type": "code",
      "metadata": {
        "id": "zMxBCGQVnhq_",
        "outputId": "2db176bf-0a0f-48f3-e93f-b8a174fb296e",
        "colab": {
          "base_uri": "https://localhost:8080/",
          "height": 204
        }
      },
      "source": [
        "train_df = pd.read_csv('flight_delays_train.csv')\n",
        "train_df.head()"
      ],
      "execution_count": null,
      "outputs": [
        {
          "output_type": "execute_result",
          "data": {
            "text/html": [
              "<div>\n",
              "<style scoped>\n",
              "    .dataframe tbody tr th:only-of-type {\n",
              "        vertical-align: middle;\n",
              "    }\n",
              "\n",
              "    .dataframe tbody tr th {\n",
              "        vertical-align: top;\n",
              "    }\n",
              "\n",
              "    .dataframe thead th {\n",
              "        text-align: right;\n",
              "    }\n",
              "</style>\n",
              "<table border=\"1\" class=\"dataframe\">\n",
              "  <thead>\n",
              "    <tr style=\"text-align: right;\">\n",
              "      <th></th>\n",
              "      <th>Month</th>\n",
              "      <th>DayofMonth</th>\n",
              "      <th>DayOfWeek</th>\n",
              "      <th>DepTime</th>\n",
              "      <th>UniqueCarrier</th>\n",
              "      <th>Origin</th>\n",
              "      <th>Dest</th>\n",
              "      <th>Distance</th>\n",
              "      <th>dep_delayed_15min</th>\n",
              "    </tr>\n",
              "  </thead>\n",
              "  <tbody>\n",
              "    <tr>\n",
              "      <th>0</th>\n",
              "      <td>c-8</td>\n",
              "      <td>c-21</td>\n",
              "      <td>c-7</td>\n",
              "      <td>1934</td>\n",
              "      <td>AA</td>\n",
              "      <td>ATL</td>\n",
              "      <td>DFW</td>\n",
              "      <td>732</td>\n",
              "      <td>N</td>\n",
              "    </tr>\n",
              "    <tr>\n",
              "      <th>1</th>\n",
              "      <td>c-4</td>\n",
              "      <td>c-20</td>\n",
              "      <td>c-3</td>\n",
              "      <td>1548</td>\n",
              "      <td>US</td>\n",
              "      <td>PIT</td>\n",
              "      <td>MCO</td>\n",
              "      <td>834</td>\n",
              "      <td>N</td>\n",
              "    </tr>\n",
              "    <tr>\n",
              "      <th>2</th>\n",
              "      <td>c-9</td>\n",
              "      <td>c-2</td>\n",
              "      <td>c-5</td>\n",
              "      <td>1422</td>\n",
              "      <td>XE</td>\n",
              "      <td>RDU</td>\n",
              "      <td>CLE</td>\n",
              "      <td>416</td>\n",
              "      <td>N</td>\n",
              "    </tr>\n",
              "    <tr>\n",
              "      <th>3</th>\n",
              "      <td>c-11</td>\n",
              "      <td>c-25</td>\n",
              "      <td>c-6</td>\n",
              "      <td>1015</td>\n",
              "      <td>OO</td>\n",
              "      <td>DEN</td>\n",
              "      <td>MEM</td>\n",
              "      <td>872</td>\n",
              "      <td>N</td>\n",
              "    </tr>\n",
              "    <tr>\n",
              "      <th>4</th>\n",
              "      <td>c-10</td>\n",
              "      <td>c-7</td>\n",
              "      <td>c-6</td>\n",
              "      <td>1828</td>\n",
              "      <td>WN</td>\n",
              "      <td>MDW</td>\n",
              "      <td>OMA</td>\n",
              "      <td>423</td>\n",
              "      <td>Y</td>\n",
              "    </tr>\n",
              "  </tbody>\n",
              "</table>\n",
              "</div>"
            ],
            "text/plain": [
              "  Month DayofMonth DayOfWeek  DepTime  ... Origin Dest Distance  dep_delayed_15min\n",
              "0   c-8       c-21       c-7     1934  ...    ATL  DFW      732                  N\n",
              "1   c-4       c-20       c-3     1548  ...    PIT  MCO      834                  N\n",
              "2   c-9        c-2       c-5     1422  ...    RDU  CLE      416                  N\n",
              "3  c-11       c-25       c-6     1015  ...    DEN  MEM      872                  N\n",
              "4  c-10        c-7       c-6     1828  ...    MDW  OMA      423                  Y\n",
              "\n",
              "[5 rows x 9 columns]"
            ]
          },
          "metadata": {
            "tags": []
          },
          "execution_count": 27
        }
      ]
    },
    {
      "cell_type": "markdown",
      "metadata": {
        "id": "XM1XoZ16rkCn"
      },
      "source": [
        "Map carrier, origin/destination airport codes and delayed to numeric attributes"
      ]
    },
    {
      "cell_type": "code",
      "metadata": {
        "id": "A2dn5HOuLjjo",
        "outputId": "d76e69cc-9da4-470a-8d36-95b049300f72",
        "colab": {
          "base_uri": "https://localhost:8080/",
          "height": 204
        }
      },
      "source": [
        "# UniqueCarrier\n",
        "uc_labels = train_df.UniqueCarrier.unique().tolist()\n",
        "label_dict_uc_train = {}\n",
        "for index, possible_label in enumerate(uc_labels):\n",
        "    label_dict_uc_train[possible_label] = index\n",
        "\n",
        "# Origin\n",
        "origin_labels = train_df.Origin.unique().tolist()\n",
        "label_dict_origin_train = {}\n",
        "for index, possible_label in enumerate(origin_labels):\n",
        "    label_dict_origin_train[possible_label] = index\n",
        "\n",
        "# Dest\n",
        "dest_labels = train_df.Dest.unique().tolist()\n",
        "label_dict_dest_train = {}\n",
        "for index, possible_label in enumerate(dest_labels):\n",
        "    label_dict_dest_train[possible_label] = index\n",
        "\n",
        "train_df['UniqueCarrier'] = train_df.UniqueCarrier.replace(label_dict_uc_train)\n",
        "train_df['Origin'] = train_df.Origin.replace(label_dict_origin_train)\n",
        "train_df['Dest'] = train_df.Dest.replace(label_dict_dest_train)\n",
        "\n",
        "# Map 'delayed' to 1/0\n",
        "delayed = train_df['dep_delayed_15min'].map({'Y': 1, 'N': 0}).values\n",
        "\n",
        "train_df.head()"
      ],
      "execution_count": null,
      "outputs": [
        {
          "output_type": "execute_result",
          "data": {
            "text/html": [
              "<div>\n",
              "<style scoped>\n",
              "    .dataframe tbody tr th:only-of-type {\n",
              "        vertical-align: middle;\n",
              "    }\n",
              "\n",
              "    .dataframe tbody tr th {\n",
              "        vertical-align: top;\n",
              "    }\n",
              "\n",
              "    .dataframe thead th {\n",
              "        text-align: right;\n",
              "    }\n",
              "</style>\n",
              "<table border=\"1\" class=\"dataframe\">\n",
              "  <thead>\n",
              "    <tr style=\"text-align: right;\">\n",
              "      <th></th>\n",
              "      <th>Month</th>\n",
              "      <th>DayofMonth</th>\n",
              "      <th>DayOfWeek</th>\n",
              "      <th>DepTime</th>\n",
              "      <th>UniqueCarrier</th>\n",
              "      <th>Origin</th>\n",
              "      <th>Dest</th>\n",
              "      <th>Distance</th>\n",
              "      <th>dep_delayed_15min</th>\n",
              "    </tr>\n",
              "  </thead>\n",
              "  <tbody>\n",
              "    <tr>\n",
              "      <th>0</th>\n",
              "      <td>c-8</td>\n",
              "      <td>c-21</td>\n",
              "      <td>c-7</td>\n",
              "      <td>1934</td>\n",
              "      <td>0</td>\n",
              "      <td>0</td>\n",
              "      <td>0</td>\n",
              "      <td>732</td>\n",
              "      <td>N</td>\n",
              "    </tr>\n",
              "    <tr>\n",
              "      <th>1</th>\n",
              "      <td>c-4</td>\n",
              "      <td>c-20</td>\n",
              "      <td>c-3</td>\n",
              "      <td>1548</td>\n",
              "      <td>1</td>\n",
              "      <td>1</td>\n",
              "      <td>1</td>\n",
              "      <td>834</td>\n",
              "      <td>N</td>\n",
              "    </tr>\n",
              "    <tr>\n",
              "      <th>2</th>\n",
              "      <td>c-9</td>\n",
              "      <td>c-2</td>\n",
              "      <td>c-5</td>\n",
              "      <td>1422</td>\n",
              "      <td>2</td>\n",
              "      <td>2</td>\n",
              "      <td>2</td>\n",
              "      <td>416</td>\n",
              "      <td>N</td>\n",
              "    </tr>\n",
              "    <tr>\n",
              "      <th>3</th>\n",
              "      <td>c-11</td>\n",
              "      <td>c-25</td>\n",
              "      <td>c-6</td>\n",
              "      <td>1015</td>\n",
              "      <td>3</td>\n",
              "      <td>3</td>\n",
              "      <td>3</td>\n",
              "      <td>872</td>\n",
              "      <td>N</td>\n",
              "    </tr>\n",
              "    <tr>\n",
              "      <th>4</th>\n",
              "      <td>c-10</td>\n",
              "      <td>c-7</td>\n",
              "      <td>c-6</td>\n",
              "      <td>1828</td>\n",
              "      <td>4</td>\n",
              "      <td>4</td>\n",
              "      <td>4</td>\n",
              "      <td>423</td>\n",
              "      <td>Y</td>\n",
              "    </tr>\n",
              "  </tbody>\n",
              "</table>\n",
              "</div>"
            ],
            "text/plain": [
              "  Month DayofMonth DayOfWeek  DepTime  ...  Origin  Dest  Distance  dep_delayed_15min\n",
              "0   c-8       c-21       c-7     1934  ...       0     0       732                  N\n",
              "1   c-4       c-20       c-3     1548  ...       1     1       834                  N\n",
              "2   c-9        c-2       c-5     1422  ...       2     2       416                  N\n",
              "3  c-11       c-25       c-6     1015  ...       3     3       872                  N\n",
              "4  c-10        c-7       c-6     1828  ...       4     4       423                  Y\n",
              "\n",
              "[5 rows x 9 columns]"
            ]
          },
          "metadata": {
            "tags": []
          },
          "execution_count": 28
        }
      ]
    },
    {
      "cell_type": "markdown",
      "metadata": {
        "id": "00SlI55VuZGF"
      },
      "source": [
        "Clean attributes related to date and cast them to int"
      ]
    },
    {
      "cell_type": "code",
      "metadata": {
        "id": "YoXwuW6anjlQ",
        "outputId": "c5527075-626c-4abf-9449-a3dafba3221b",
        "colab": {
          "base_uri": "https://localhost:8080/",
          "height": 204
        }
      },
      "source": [
        "# Cleaning the 'c-' from the data related to dates\n",
        "month = train_df['Month'].str.split('-')\n",
        "train_df['Mon']=month.apply(lambda x:int(x[1]))\n",
        "\n",
        "day = train_df['DayofMonth'].str.split('-')\n",
        "train_df['DOM']=day.apply(lambda x:int(x[1]))\n",
        "\n",
        "dow = train_df['DayOfWeek'].str.split('-')\n",
        "train_df['DOW']=dow.apply(lambda x:int(x[1]))\n",
        "\n",
        "train_df = train_df.drop(['dep_delayed_15min', 'Month', 'DayofMonth',\n",
        "                          'DayOfWeek'], axis=1)\n",
        "\n",
        "train_df.head()"
      ],
      "execution_count": null,
      "outputs": [
        {
          "output_type": "execute_result",
          "data": {
            "text/html": [
              "<div>\n",
              "<style scoped>\n",
              "    .dataframe tbody tr th:only-of-type {\n",
              "        vertical-align: middle;\n",
              "    }\n",
              "\n",
              "    .dataframe tbody tr th {\n",
              "        vertical-align: top;\n",
              "    }\n",
              "\n",
              "    .dataframe thead th {\n",
              "        text-align: right;\n",
              "    }\n",
              "</style>\n",
              "<table border=\"1\" class=\"dataframe\">\n",
              "  <thead>\n",
              "    <tr style=\"text-align: right;\">\n",
              "      <th></th>\n",
              "      <th>DepTime</th>\n",
              "      <th>UniqueCarrier</th>\n",
              "      <th>Origin</th>\n",
              "      <th>Dest</th>\n",
              "      <th>Distance</th>\n",
              "      <th>Mon</th>\n",
              "      <th>DOM</th>\n",
              "      <th>DOW</th>\n",
              "    </tr>\n",
              "  </thead>\n",
              "  <tbody>\n",
              "    <tr>\n",
              "      <th>0</th>\n",
              "      <td>1934</td>\n",
              "      <td>0</td>\n",
              "      <td>0</td>\n",
              "      <td>0</td>\n",
              "      <td>732</td>\n",
              "      <td>8</td>\n",
              "      <td>21</td>\n",
              "      <td>7</td>\n",
              "    </tr>\n",
              "    <tr>\n",
              "      <th>1</th>\n",
              "      <td>1548</td>\n",
              "      <td>1</td>\n",
              "      <td>1</td>\n",
              "      <td>1</td>\n",
              "      <td>834</td>\n",
              "      <td>4</td>\n",
              "      <td>20</td>\n",
              "      <td>3</td>\n",
              "    </tr>\n",
              "    <tr>\n",
              "      <th>2</th>\n",
              "      <td>1422</td>\n",
              "      <td>2</td>\n",
              "      <td>2</td>\n",
              "      <td>2</td>\n",
              "      <td>416</td>\n",
              "      <td>9</td>\n",
              "      <td>2</td>\n",
              "      <td>5</td>\n",
              "    </tr>\n",
              "    <tr>\n",
              "      <th>3</th>\n",
              "      <td>1015</td>\n",
              "      <td>3</td>\n",
              "      <td>3</td>\n",
              "      <td>3</td>\n",
              "      <td>872</td>\n",
              "      <td>11</td>\n",
              "      <td>25</td>\n",
              "      <td>6</td>\n",
              "    </tr>\n",
              "    <tr>\n",
              "      <th>4</th>\n",
              "      <td>1828</td>\n",
              "      <td>4</td>\n",
              "      <td>4</td>\n",
              "      <td>4</td>\n",
              "      <td>423</td>\n",
              "      <td>10</td>\n",
              "      <td>7</td>\n",
              "      <td>6</td>\n",
              "    </tr>\n",
              "  </tbody>\n",
              "</table>\n",
              "</div>"
            ],
            "text/plain": [
              "   DepTime  UniqueCarrier  Origin  Dest  Distance  Mon  DOM  DOW\n",
              "0     1934              0       0     0       732    8   21    7\n",
              "1     1548              1       1     1       834    4   20    3\n",
              "2     1422              2       2     2       416    9    2    5\n",
              "3     1015              3       3     3       872   11   25    6\n",
              "4     1828              4       4     4       423   10    7    6"
            ]
          },
          "metadata": {
            "tags": []
          },
          "execution_count": 29
        }
      ]
    },
    {
      "cell_type": "markdown",
      "metadata": {
        "id": "A-6p7126umc7"
      },
      "source": [
        "Combine time and date into one single attribute"
      ]
    },
    {
      "cell_type": "code",
      "metadata": {
        "id": "9LgjrChtVrIJ",
        "outputId": "08a3359d-e34a-420f-c6f6-a96ab3e4aeeb",
        "colab": {
          "base_uri": "https://localhost:8080/",
          "height": 204
        }
      },
      "source": [
        "# Create column year and set all values as 2015 (the year when data was collected)\n",
        "train_df['Year'] = 2015\n",
        "\n",
        "# Rename columns to 'Month' and 'Day'\n",
        "train_df.rename(columns={'Mon': 'Month',  'DOM': 'Day'}, inplace=True)\n",
        "\n",
        "# Convert year, month and day to 'datetime'\n",
        "train_df['Date'] = pd.to_datetime(train_df[['Year', 'Month', 'Day']])\n",
        "\n",
        "# Separate hours and minutes into their respective columns\n",
        "train_df['DepHour'] = train_df['DepTime']//100\n",
        "train_df['DepHour'].replace(to_replace=[24,25], value=0, inplace=True)\n",
        "\n",
        "train_df['DepMinute'] = train_df['DepTime']%100\n",
        "\n",
        "# Save the time in minutes\n",
        "train_df['Minutes'] = train_df['DepMinute'] + train_df['DepHour']*60\n",
        "\n",
        "# Convert time to 'timedelta'\n",
        "train_df['Time'] = pd.to_timedelta(train_df['Minutes'], unit='m')\n",
        "\n",
        "# Combine both date and time to one single attribute\n",
        "train_df['DateTime'] = pd.to_datetime(train_df['Date'] + train_df['Time'])\n",
        "\n",
        "# Drop irrelevant columns\n",
        "train_df = train_df.drop(['Date', 'DepHour', 'DepMinute', 'Minutes', 'Time',\n",
        "                          'Month', 'Day', 'Year', 'DepTime'], axis=1)\n",
        "\n",
        "# Check attributes types\n",
        "# print(pd.DataFrame(train_df.dtypes))\n",
        "\n",
        "train_df.head()"
      ],
      "execution_count": null,
      "outputs": [
        {
          "output_type": "execute_result",
          "data": {
            "text/html": [
              "<div>\n",
              "<style scoped>\n",
              "    .dataframe tbody tr th:only-of-type {\n",
              "        vertical-align: middle;\n",
              "    }\n",
              "\n",
              "    .dataframe tbody tr th {\n",
              "        vertical-align: top;\n",
              "    }\n",
              "\n",
              "    .dataframe thead th {\n",
              "        text-align: right;\n",
              "    }\n",
              "</style>\n",
              "<table border=\"1\" class=\"dataframe\">\n",
              "  <thead>\n",
              "    <tr style=\"text-align: right;\">\n",
              "      <th></th>\n",
              "      <th>UniqueCarrier</th>\n",
              "      <th>Origin</th>\n",
              "      <th>Dest</th>\n",
              "      <th>Distance</th>\n",
              "      <th>DOW</th>\n",
              "      <th>DateTime</th>\n",
              "    </tr>\n",
              "  </thead>\n",
              "  <tbody>\n",
              "    <tr>\n",
              "      <th>0</th>\n",
              "      <td>0</td>\n",
              "      <td>0</td>\n",
              "      <td>0</td>\n",
              "      <td>732</td>\n",
              "      <td>7</td>\n",
              "      <td>2015-08-21 19:34:00</td>\n",
              "    </tr>\n",
              "    <tr>\n",
              "      <th>1</th>\n",
              "      <td>1</td>\n",
              "      <td>1</td>\n",
              "      <td>1</td>\n",
              "      <td>834</td>\n",
              "      <td>3</td>\n",
              "      <td>2015-04-20 15:48:00</td>\n",
              "    </tr>\n",
              "    <tr>\n",
              "      <th>2</th>\n",
              "      <td>2</td>\n",
              "      <td>2</td>\n",
              "      <td>2</td>\n",
              "      <td>416</td>\n",
              "      <td>5</td>\n",
              "      <td>2015-09-02 14:22:00</td>\n",
              "    </tr>\n",
              "    <tr>\n",
              "      <th>3</th>\n",
              "      <td>3</td>\n",
              "      <td>3</td>\n",
              "      <td>3</td>\n",
              "      <td>872</td>\n",
              "      <td>6</td>\n",
              "      <td>2015-11-25 10:15:00</td>\n",
              "    </tr>\n",
              "    <tr>\n",
              "      <th>4</th>\n",
              "      <td>4</td>\n",
              "      <td>4</td>\n",
              "      <td>4</td>\n",
              "      <td>423</td>\n",
              "      <td>6</td>\n",
              "      <td>2015-10-07 18:28:00</td>\n",
              "    </tr>\n",
              "  </tbody>\n",
              "</table>\n",
              "</div>"
            ],
            "text/plain": [
              "   UniqueCarrier  Origin  Dest  Distance  DOW            DateTime\n",
              "0              0       0     0       732    7 2015-08-21 19:34:00\n",
              "1              1       1     1       834    3 2015-04-20 15:48:00\n",
              "2              2       2     2       416    5 2015-09-02 14:22:00\n",
              "3              3       3     3       872    6 2015-11-25 10:15:00\n",
              "4              4       4     4       423    6 2015-10-07 18:28:00"
            ]
          },
          "metadata": {
            "tags": []
          },
          "execution_count": 30
        }
      ]
    },
    {
      "cell_type": "markdown",
      "metadata": {
        "id": "aBIo_R1Gw3Zi"
      },
      "source": [
        "Cast 'datetime' to numeric"
      ]
    },
    {
      "cell_type": "code",
      "metadata": {
        "id": "hxZGIAzX5RDl",
        "outputId": "e6a76c0f-bd13-44bb-a3ac-6de891024259",
        "colab": {
          "base_uri": "https://localhost:8080/",
          "height": 204
        }
      },
      "source": [
        "# Cast 'datetime' to numeric\n",
        "train_df['DateTime'] = pd.to_numeric(train_df['DateTime'])\n",
        "\n",
        "train_df.head()"
      ],
      "execution_count": null,
      "outputs": [
        {
          "output_type": "execute_result",
          "data": {
            "text/html": [
              "<div>\n",
              "<style scoped>\n",
              "    .dataframe tbody tr th:only-of-type {\n",
              "        vertical-align: middle;\n",
              "    }\n",
              "\n",
              "    .dataframe tbody tr th {\n",
              "        vertical-align: top;\n",
              "    }\n",
              "\n",
              "    .dataframe thead th {\n",
              "        text-align: right;\n",
              "    }\n",
              "</style>\n",
              "<table border=\"1\" class=\"dataframe\">\n",
              "  <thead>\n",
              "    <tr style=\"text-align: right;\">\n",
              "      <th></th>\n",
              "      <th>UniqueCarrier</th>\n",
              "      <th>Origin</th>\n",
              "      <th>Dest</th>\n",
              "      <th>Distance</th>\n",
              "      <th>DOW</th>\n",
              "      <th>DateTime</th>\n",
              "    </tr>\n",
              "  </thead>\n",
              "  <tbody>\n",
              "    <tr>\n",
              "      <th>0</th>\n",
              "      <td>0</td>\n",
              "      <td>0</td>\n",
              "      <td>0</td>\n",
              "      <td>732</td>\n",
              "      <td>7</td>\n",
              "      <td>1440185640000000000</td>\n",
              "    </tr>\n",
              "    <tr>\n",
              "      <th>1</th>\n",
              "      <td>1</td>\n",
              "      <td>1</td>\n",
              "      <td>1</td>\n",
              "      <td>834</td>\n",
              "      <td>3</td>\n",
              "      <td>1429544880000000000</td>\n",
              "    </tr>\n",
              "    <tr>\n",
              "      <th>2</th>\n",
              "      <td>2</td>\n",
              "      <td>2</td>\n",
              "      <td>2</td>\n",
              "      <td>416</td>\n",
              "      <td>5</td>\n",
              "      <td>1441203720000000000</td>\n",
              "    </tr>\n",
              "    <tr>\n",
              "      <th>3</th>\n",
              "      <td>3</td>\n",
              "      <td>3</td>\n",
              "      <td>3</td>\n",
              "      <td>872</td>\n",
              "      <td>6</td>\n",
              "      <td>1448446500000000000</td>\n",
              "    </tr>\n",
              "    <tr>\n",
              "      <th>4</th>\n",
              "      <td>4</td>\n",
              "      <td>4</td>\n",
              "      <td>4</td>\n",
              "      <td>423</td>\n",
              "      <td>6</td>\n",
              "      <td>1444242480000000000</td>\n",
              "    </tr>\n",
              "  </tbody>\n",
              "</table>\n",
              "</div>"
            ],
            "text/plain": [
              "   UniqueCarrier  Origin  Dest  Distance  DOW             DateTime\n",
              "0              0       0     0       732    7  1440185640000000000\n",
              "1              1       1     1       834    3  1429544880000000000\n",
              "2              2       2     2       416    5  1441203720000000000\n",
              "3              3       3     3       872    6  1448446500000000000\n",
              "4              4       4     4       423    6  1444242480000000000"
            ]
          },
          "metadata": {
            "tags": []
          },
          "execution_count": 31
        }
      ]
    },
    {
      "cell_type": "markdown",
      "metadata": {
        "id": "X-sHIAS0w_nc"
      },
      "source": [
        "Normalize values"
      ]
    },
    {
      "cell_type": "code",
      "metadata": {
        "id": "LDkd8ICCnpew",
        "outputId": "21c86fc6-9e05-4189-dc12-2649582807a3",
        "colab": {
          "base_uri": "https://localhost:8080/",
          "height": 204
        }
      },
      "source": [
        "# Save columns names\n",
        "att = list(train_df.columns.values)\n",
        "\n",
        "# Normalize\n",
        "train_values = train_df.values\n",
        "scaler = preprocessing.MinMaxScaler()\n",
        "values_scaled = scaler.fit_transform(train_values)\n",
        "\n",
        "# Save to new dataframe\n",
        "train_scaled_df = pd.DataFrame(values_scaled,columns=att)\n",
        "\n",
        "train_scaled_df.head()"
      ],
      "execution_count": null,
      "outputs": [
        {
          "output_type": "execute_result",
          "data": {
            "text/html": [
              "<div>\n",
              "<style scoped>\n",
              "    .dataframe tbody tr th:only-of-type {\n",
              "        vertical-align: middle;\n",
              "    }\n",
              "\n",
              "    .dataframe tbody tr th {\n",
              "        vertical-align: top;\n",
              "    }\n",
              "\n",
              "    .dataframe thead th {\n",
              "        text-align: right;\n",
              "    }\n",
              "</style>\n",
              "<table border=\"1\" class=\"dataframe\">\n",
              "  <thead>\n",
              "    <tr style=\"text-align: right;\">\n",
              "      <th></th>\n",
              "      <th>UniqueCarrier</th>\n",
              "      <th>Origin</th>\n",
              "      <th>Dest</th>\n",
              "      <th>Distance</th>\n",
              "      <th>DOW</th>\n",
              "      <th>DateTime</th>\n",
              "    </tr>\n",
              "  </thead>\n",
              "  <tbody>\n",
              "    <tr>\n",
              "      <th>0</th>\n",
              "      <td>0.000000</td>\n",
              "      <td>0.000000</td>\n",
              "      <td>0.000000</td>\n",
              "      <td>0.142336</td>\n",
              "      <td>1.000000</td>\n",
              "      <td>0.637641</td>\n",
              "    </tr>\n",
              "    <tr>\n",
              "      <th>1</th>\n",
              "      <td>0.047619</td>\n",
              "      <td>0.003472</td>\n",
              "      <td>0.003472</td>\n",
              "      <td>0.163017</td>\n",
              "      <td>0.333333</td>\n",
              "      <td>0.300003</td>\n",
              "    </tr>\n",
              "    <tr>\n",
              "      <th>2</th>\n",
              "      <td>0.095238</td>\n",
              "      <td>0.006944</td>\n",
              "      <td>0.006944</td>\n",
              "      <td>0.078264</td>\n",
              "      <td>0.666667</td>\n",
              "      <td>0.669945</td>\n",
              "    </tr>\n",
              "    <tr>\n",
              "      <th>3</th>\n",
              "      <td>0.142857</td>\n",
              "      <td>0.010417</td>\n",
              "      <td>0.010417</td>\n",
              "      <td>0.170722</td>\n",
              "      <td>0.833333</td>\n",
              "      <td>0.899763</td>\n",
              "    </tr>\n",
              "    <tr>\n",
              "      <th>4</th>\n",
              "      <td>0.190476</td>\n",
              "      <td>0.013889</td>\n",
              "      <td>0.013889</td>\n",
              "      <td>0.079684</td>\n",
              "      <td>0.833333</td>\n",
              "      <td>0.766367</td>\n",
              "    </tr>\n",
              "  </tbody>\n",
              "</table>\n",
              "</div>"
            ],
            "text/plain": [
              "   UniqueCarrier    Origin      Dest  Distance       DOW  DateTime\n",
              "0       0.000000  0.000000  0.000000  0.142336  1.000000  0.637641\n",
              "1       0.047619  0.003472  0.003472  0.163017  0.333333  0.300003\n",
              "2       0.095238  0.006944  0.006944  0.078264  0.666667  0.669945\n",
              "3       0.142857  0.010417  0.010417  0.170722  0.833333  0.899763\n",
              "4       0.190476  0.013889  0.013889  0.079684  0.833333  0.766367"
            ]
          },
          "metadata": {
            "tags": []
          },
          "execution_count": 32
        }
      ]
    },
    {
      "cell_type": "markdown",
      "metadata": {
        "id": "t2nqWRrcUwMV"
      },
      "source": [
        "Decision Tree Classifier using stratified K-Fold split"
      ]
    },
    {
      "cell_type": "code",
      "metadata": {
        "id": "aLaZNW4hWOtV",
        "outputId": "eb9de8f4-0f8f-46b5-c751-400d1c55ed8c",
        "colab": {
          "base_uri": "https://localhost:8080/",
          "height": 850
        }
      },
      "source": [
        "# Save dataframe values to 'train_data' variable\n",
        "train_data = train_scaled_df.values\n",
        "\n",
        "# Create 'StratifiedKFold' object\n",
        "skf = StratifiedKFold(n_splits=5)\n",
        "\n",
        "# Create decision tree object\n",
        "model = tree.DecisionTreeClassifier(random_state=271828)\n",
        "\n",
        "# Train and test model using Stratified K-Fold\n",
        "for train_index,test_index in skf.split(train_data, delayed):\n",
        "  train, test = train_data[train_index], train_data[test_index]\n",
        "  delay_train, delay_test = delayed[train_index], delayed[test_index]\n",
        "  model.fit(train, delay_train)\n",
        "  delay_pred = model.predict(test)\n",
        "  print(classification_report(delay_test, delay_pred))\n",
        "\n",
        "# Print final results\n",
        "print(\"ROC AUC score: {}\".format(roc_auc_score(delay_pred, delay_test)))\n",
        "\n",
        "print(\"Features importance: {}\".format(model.feature_importances_))\n",
        "\n",
        "tn, fp, fn, tp = confusion_matrix(delay_test, delay_pred).ravel()\n",
        "print(\"Confusion matrix (TN, FP, FN, TP):\\n{}\".format((tn, fp, fn, tp)))"
      ],
      "execution_count": null,
      "outputs": [
        {
          "output_type": "stream",
          "text": [
            "              precision    recall  f1-score   support\n",
            "\n",
            "           0       0.82      0.81      0.81     16192\n",
            "           1       0.25      0.27      0.26      3808\n",
            "\n",
            "    accuracy                           0.70     20000\n",
            "   macro avg       0.54      0.54      0.54     20000\n",
            "weighted avg       0.71      0.70      0.71     20000\n",
            "\n",
            "              precision    recall  f1-score   support\n",
            "\n",
            "           0       0.83      0.81      0.82     16191\n",
            "           1       0.25      0.27      0.26      3809\n",
            "\n",
            "    accuracy                           0.71     20000\n",
            "   macro avg       0.54      0.54      0.54     20000\n",
            "weighted avg       0.72      0.71      0.71     20000\n",
            "\n",
            "              precision    recall  f1-score   support\n",
            "\n",
            "           0       0.82      0.80      0.81     16191\n",
            "           1       0.25      0.28      0.26      3809\n",
            "\n",
            "    accuracy                           0.70     20000\n",
            "   macro avg       0.54      0.54      0.54     20000\n",
            "weighted avg       0.71      0.70      0.71     20000\n",
            "\n",
            "              precision    recall  f1-score   support\n",
            "\n",
            "           0       0.82      0.81      0.82     16191\n",
            "           1       0.24      0.26      0.25      3809\n",
            "\n",
            "    accuracy                           0.70     20000\n",
            "   macro avg       0.53      0.54      0.53     20000\n",
            "weighted avg       0.71      0.70      0.71     20000\n",
            "\n",
            "              precision    recall  f1-score   support\n",
            "\n",
            "           0       0.83      0.81      0.82     16191\n",
            "           1       0.26      0.28      0.27      3809\n",
            "\n",
            "    accuracy                           0.71     20000\n",
            "   macro avg       0.54      0.55      0.54     20000\n",
            "weighted avg       0.72      0.71      0.71     20000\n",
            "\n",
            "ROC AUC score: 0.5429524523287079\n",
            "Features importance: [0.08005461 0.12425879 0.15068849 0.19596009 0.07971562 0.3693224 ]\n",
            "Confusion matrix (TN, FP, FN, TP):\n",
            "(13082, 3109, 2726, 1083)\n"
          ],
          "name": "stdout"
        }
      ]
    },
    {
      "cell_type": "markdown",
      "metadata": {
        "id": "AWX-J4xJ0Cpq"
      },
      "source": [
        "Random tests and stuff (not well document, nor it'll be)"
      ]
    },
    {
      "cell_type": "markdown",
      "metadata": {
        "id": "Gz0FDsHbU3up"
      },
      "source": [
        "Entropy criterion"
      ]
    },
    {
      "cell_type": "code",
      "metadata": {
        "id": "p7qfNVjwU8hJ",
        "outputId": "6ea841e6-f8c2-4b0d-99ce-46be1ce867f1",
        "colab": {
          "base_uri": "https://localhost:8080/",
          "height": 799
        }
      },
      "source": [
        "train_data = train_scaled_df.values\n",
        "\n",
        "skf = StratifiedKFold(n_splits=5)\n",
        "\n",
        "model = tree.DecisionTreeClassifier(criterion='entropy', random_state=271828)\n",
        "\n",
        "for train_index,test_index in skf.split(train_data, delayed):\n",
        "  train, test = train_data[train_index], train_data[test_index]\n",
        "  delay_train, delay_test = delayed[train_index], delayed[test_index]\n",
        "  model.fit(train, delay_train)\n",
        "  delay_pred = model.predict(test)\n",
        "  print(classification_report(delay_test, delay_pred))\n",
        "\n",
        "print(roc_auc_score(delay_pred, delay_test))"
      ],
      "execution_count": null,
      "outputs": [
        {
          "output_type": "stream",
          "text": [
            "              precision    recall  f1-score   support\n",
            "\n",
            "           0       0.82      0.81      0.82     16192\n",
            "           1       0.24      0.25      0.25      3808\n",
            "\n",
            "    accuracy                           0.71     20000\n",
            "   macro avg       0.53      0.53      0.53     20000\n",
            "weighted avg       0.71      0.71      0.71     20000\n",
            "\n",
            "              precision    recall  f1-score   support\n",
            "\n",
            "           0       0.83      0.82      0.82     16191\n",
            "           1       0.25      0.26      0.26      3809\n",
            "\n",
            "    accuracy                           0.71     20000\n",
            "   macro avg       0.54      0.54      0.54     20000\n",
            "weighted avg       0.72      0.71      0.71     20000\n",
            "\n",
            "              precision    recall  f1-score   support\n",
            "\n",
            "           0       0.82      0.81      0.82     16191\n",
            "           1       0.24      0.26      0.25      3809\n",
            "\n",
            "    accuracy                           0.70     20000\n",
            "   macro avg       0.53      0.53      0.53     20000\n",
            "weighted avg       0.71      0.70      0.71     20000\n",
            "\n",
            "              precision    recall  f1-score   support\n",
            "\n",
            "           0       0.83      0.82      0.82     16191\n",
            "           1       0.26      0.27      0.27      3809\n",
            "\n",
            "    accuracy                           0.71     20000\n",
            "   macro avg       0.54      0.54      0.54     20000\n",
            "weighted avg       0.72      0.71      0.72     20000\n",
            "\n",
            "              precision    recall  f1-score   support\n",
            "\n",
            "           0       0.82      0.82      0.82     16191\n",
            "           1       0.25      0.26      0.26      3809\n",
            "\n",
            "    accuracy                           0.71     20000\n",
            "   macro avg       0.54      0.54      0.54     20000\n",
            "weighted avg       0.72      0.71      0.71     20000\n",
            "\n",
            "0.5373204515286109\n"
          ],
          "name": "stdout"
        }
      ]
    },
    {
      "cell_type": "markdown",
      "metadata": {
        "id": "4mAV4kFjdRai"
      },
      "source": [
        "Random splitter"
      ]
    },
    {
      "cell_type": "code",
      "metadata": {
        "id": "QPj9iNmFxZ-K",
        "outputId": "3b27121f-7273-4512-8b65-4746de23521d",
        "colab": {
          "base_uri": "https://localhost:8080/",
          "height": 799
        }
      },
      "source": [
        "train_data = train_scaled_df.values\n",
        "\n",
        "skf = StratifiedKFold(n_splits=5)\n",
        "\n",
        "model = tree.DecisionTreeClassifier(splitter='random', random_state=271828)\n",
        "\n",
        "for train_index,test_index in skf.split(train_data, delayed):\n",
        "  train, test = train_data[train_index], train_data[test_index]\n",
        "  delay_train, delay_test = delayed[train_index], delayed[test_index]\n",
        "  model.fit(train, delay_train)\n",
        "  # print(model.feature_importances_)\n",
        "  delay_pred = model.predict(test)\n",
        "  print(classification_report(delay_test, delay_pred))\n",
        "\n",
        "print(roc_auc_score(delay_pred, delay_test))"
      ],
      "execution_count": null,
      "outputs": [
        {
          "output_type": "stream",
          "text": [
            "              precision    recall  f1-score   support\n",
            "\n",
            "           0       0.82      0.80      0.81     16192\n",
            "           1       0.22      0.24      0.23      3808\n",
            "\n",
            "    accuracy                           0.69     20000\n",
            "   macro avg       0.52      0.52      0.52     20000\n",
            "weighted avg       0.70      0.69      0.70     20000\n",
            "\n",
            "              precision    recall  f1-score   support\n",
            "\n",
            "           0       0.82      0.81      0.81     16191\n",
            "           1       0.23      0.24      0.23      3809\n",
            "\n",
            "    accuracy                           0.70     20000\n",
            "   macro avg       0.52      0.52      0.52     20000\n",
            "weighted avg       0.71      0.70      0.70     20000\n",
            "\n",
            "              precision    recall  f1-score   support\n",
            "\n",
            "           0       0.82      0.80      0.81     16191\n",
            "           1       0.22      0.24      0.23      3809\n",
            "\n",
            "    accuracy                           0.70     20000\n",
            "   macro avg       0.52      0.52      0.52     20000\n",
            "weighted avg       0.70      0.70      0.70     20000\n",
            "\n",
            "              precision    recall  f1-score   support\n",
            "\n",
            "           0       0.82      0.81      0.81     16191\n",
            "           1       0.23      0.24      0.23      3809\n",
            "\n",
            "    accuracy                           0.70     20000\n",
            "   macro avg       0.52      0.52      0.52     20000\n",
            "weighted avg       0.71      0.70      0.70     20000\n",
            "\n",
            "              precision    recall  f1-score   support\n",
            "\n",
            "           0       0.82      0.81      0.81     16191\n",
            "           1       0.23      0.24      0.24      3809\n",
            "\n",
            "    accuracy                           0.70     20000\n",
            "   macro avg       0.52      0.53      0.52     20000\n",
            "weighted avg       0.71      0.70      0.70     20000\n",
            "\n",
            "0.5239057746890364\n"
          ],
          "name": "stdout"
        }
      ]
    },
    {
      "cell_type": "code",
      "metadata": {
        "id": "soOi27QEd5uM",
        "outputId": "a21f7131-fa91-4b25-cd4d-9d9de1a514a0",
        "colab": {
          "base_uri": "https://localhost:8080/",
          "height": 799
        }
      },
      "source": [
        "train_data = train_scaled_df.values\n",
        "\n",
        "skf = StratifiedKFold(n_splits=5)\n",
        "\n",
        "model = tree.DecisionTreeClassifier(max_features='log2', random_state=271828)\n",
        "\n",
        "for train_index,test_index in skf.split(train_data, delayed):\n",
        "  train, test = train_data[train_index], train_data[test_index]\n",
        "  delay_train, delay_test = delayed[train_index], delayed[test_index]\n",
        "  model.fit(train, delay_train)\n",
        "  # print(model.feature_importances_)\n",
        "  delay_pred = model.predict(test)\n",
        "  print(classification_report(delay_test, delay_pred))\n",
        "\n",
        "print(roc_auc_score(delay_pred, delay_test))"
      ],
      "execution_count": null,
      "outputs": [
        {
          "output_type": "stream",
          "text": [
            "              precision    recall  f1-score   support\n",
            "\n",
            "           0       0.82      0.81      0.82     16192\n",
            "           1       0.23      0.24      0.24      3808\n",
            "\n",
            "    accuracy                           0.70     20000\n",
            "   macro avg       0.53      0.53      0.53     20000\n",
            "weighted avg       0.71      0.70      0.71     20000\n",
            "\n",
            "              precision    recall  f1-score   support\n",
            "\n",
            "           0       0.82      0.81      0.82     16191\n",
            "           1       0.24      0.25      0.24      3809\n",
            "\n",
            "    accuracy                           0.71     20000\n",
            "   macro avg       0.53      0.53      0.53     20000\n",
            "weighted avg       0.71      0.71      0.71     20000\n",
            "\n",
            "              precision    recall  f1-score   support\n",
            "\n",
            "           0       0.82      0.81      0.81     16191\n",
            "           1       0.22      0.23      0.23      3809\n",
            "\n",
            "    accuracy                           0.70     20000\n",
            "   macro avg       0.52      0.52      0.52     20000\n",
            "weighted avg       0.70      0.70      0.70     20000\n",
            "\n",
            "              precision    recall  f1-score   support\n",
            "\n",
            "           0       0.82      0.81      0.82     16191\n",
            "           1       0.23      0.24      0.23      3809\n",
            "\n",
            "    accuracy                           0.70     20000\n",
            "   macro avg       0.52      0.52      0.52     20000\n",
            "weighted avg       0.71      0.70      0.70     20000\n",
            "\n",
            "              precision    recall  f1-score   support\n",
            "\n",
            "           0       0.82      0.82      0.82     16191\n",
            "           1       0.24      0.24      0.24      3809\n",
            "\n",
            "    accuracy                           0.71     20000\n",
            "   macro avg       0.53      0.53      0.53     20000\n",
            "weighted avg       0.71      0.71      0.71     20000\n",
            "\n",
            "0.5294996173772714\n"
          ],
          "name": "stdout"
        }
      ]
    },
    {
      "cell_type": "code",
      "metadata": {
        "id": "gN3GunRXdof-",
        "outputId": "f1c66e8e-8807-4a7b-dbeb-402e61116967",
        "colab": {
          "base_uri": "https://localhost:8080/",
          "height": 799
        }
      },
      "source": [
        "train_data = train_scaled_df.values\n",
        "\n",
        "skf = StratifiedKFold(n_splits=5)\n",
        "\n",
        "model = tree.DecisionTreeClassifier(criterion='entropy', splitter='random',\n",
        "                                    max_features='log2', random_state=271828)\n",
        "\n",
        "for train_index,test_index in skf.split(train_data, delayed):\n",
        "  train, test = train_data[train_index], train_data[test_index]\n",
        "  delay_train, delay_test = delayed[train_index], delayed[test_index]\n",
        "  model.fit(train, delay_train)\n",
        "  # print(model.feature_importances_)\n",
        "  delay_pred = model.predict(test)\n",
        "  print(classification_report(delay_test, delay_pred))\n",
        "\n",
        "print(roc_auc_score(delay_pred, delay_test))"
      ],
      "execution_count": null,
      "outputs": [
        {
          "output_type": "stream",
          "text": [
            "              precision    recall  f1-score   support\n",
            "\n",
            "           0       0.82      0.81      0.81     16192\n",
            "           1       0.23      0.24      0.23      3808\n",
            "\n",
            "    accuracy                           0.70     20000\n",
            "   macro avg       0.52      0.52      0.52     20000\n",
            "weighted avg       0.71      0.70      0.70     20000\n",
            "\n",
            "              precision    recall  f1-score   support\n",
            "\n",
            "           0       0.82      0.82      0.82     16191\n",
            "           1       0.24      0.24      0.24      3809\n",
            "\n",
            "    accuracy                           0.71     20000\n",
            "   macro avg       0.53      0.53      0.53     20000\n",
            "weighted avg       0.71      0.71      0.71     20000\n",
            "\n",
            "              precision    recall  f1-score   support\n",
            "\n",
            "           0       0.82      0.81      0.81     16191\n",
            "           1       0.22      0.23      0.22      3809\n",
            "\n",
            "    accuracy                           0.70     20000\n",
            "   macro avg       0.52      0.52      0.52     20000\n",
            "weighted avg       0.70      0.70      0.70     20000\n",
            "\n",
            "              precision    recall  f1-score   support\n",
            "\n",
            "           0       0.82      0.81      0.81     16191\n",
            "           1       0.22      0.23      0.22      3809\n",
            "\n",
            "    accuracy                           0.70     20000\n",
            "   macro avg       0.52      0.52      0.52     20000\n",
            "weighted avg       0.70      0.70      0.70     20000\n",
            "\n",
            "              precision    recall  f1-score   support\n",
            "\n",
            "           0       0.82      0.81      0.82     16191\n",
            "           1       0.23      0.23      0.23      3809\n",
            "\n",
            "    accuracy                           0.70     20000\n",
            "   macro avg       0.52      0.52      0.52     20000\n",
            "weighted avg       0.71      0.70      0.70     20000\n",
            "\n",
            "0.5220727257929783\n"
          ],
          "name": "stdout"
        }
      ]
    },
    {
      "cell_type": "markdown",
      "metadata": {
        "id": "Y6hbitOUUWHM"
      },
      "source": [
        "Random split"
      ]
    },
    {
      "cell_type": "code",
      "metadata": {
        "id": "jflXqtshntC9",
        "outputId": "b42f5a69-fb39-4f37-aede-81f2187359fb",
        "colab": {
          "base_uri": "https://localhost:8080/",
          "height": 119
        }
      },
      "source": [
        "train_data = train_scaled_df.values\n",
        "train_delayed = delayed.values\n",
        "\n",
        "train, test, delay_train, delay_test = train_test_split(train_data,\n",
        "                                                        train_delayed,\n",
        "                                                        random_state=3141592)\n",
        "\n",
        "model = tree.DecisionTreeClassifier()\n",
        "model.fit(train, delay_train)"
      ],
      "execution_count": null,
      "outputs": [
        {
          "output_type": "execute_result",
          "data": {
            "text/plain": [
              "DecisionTreeClassifier(ccp_alpha=0.0, class_weight=None, criterion='gini',\n",
              "                       max_depth=None, max_features=None, max_leaf_nodes=None,\n",
              "                       min_impurity_decrease=0.0, min_impurity_split=None,\n",
              "                       min_samples_leaf=1, min_samples_split=2,\n",
              "                       min_weight_fraction_leaf=0.0, presort='deprecated',\n",
              "                       random_state=None, splitter='best')"
            ]
          },
          "metadata": {
            "tags": []
          },
          "execution_count": 14
        }
      ]
    },
    {
      "cell_type": "code",
      "metadata": {
        "id": "XKWME_imnuna",
        "outputId": "55455fff-58e2-4ee4-fb20-43735f654ae4",
        "colab": {
          "base_uri": "https://localhost:8080/",
          "height": 170
        }
      },
      "source": [
        "delay_pred = model.predict(test)\n",
        "print(classification_report(delay_test, delay_pred))"
      ],
      "execution_count": null,
      "outputs": [
        {
          "output_type": "stream",
          "text": [
            "              precision    recall  f1-score   support\n",
            "\n",
            "           N       0.83      0.82      0.83     20296\n",
            "           Y       0.28      0.30      0.29      4704\n",
            "\n",
            "    accuracy                           0.72     25000\n",
            "   macro avg       0.56      0.56      0.56     25000\n",
            "weighted avg       0.73      0.72      0.73     25000\n",
            "\n"
          ],
          "name": "stdout"
        }
      ]
    },
    {
      "cell_type": "code",
      "metadata": {
        "id": "YsCfnlBEMtLn",
        "outputId": "bc340f7a-5df1-4889-94f8-5c219884c24b",
        "colab": {
          "base_uri": "https://localhost:8080/",
          "height": 85
        }
      },
      "source": [
        "print(\"Max features: \", model.max_features)\n",
        "print(\"Number of classes: \", model.n_classes_)\n",
        "print(\"Number of features: \", model.n_features_)\n",
        "print(\"Number of outputs: \", model.n_outputs_)"
      ],
      "execution_count": null,
      "outputs": [
        {
          "output_type": "stream",
          "text": [
            "Max features:  None\n",
            "Number of classes:  2\n",
            "Number of features:  3\n",
            "Number of outputs:  1\n"
          ],
          "name": "stdout"
        }
      ]
    }
  ]
}